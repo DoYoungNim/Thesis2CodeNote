{
 "cells": [
  {
   "cell_type": "code",
   "execution_count": 5,
   "id": "f0c4cc61",
   "metadata": {},
   "outputs": [
    {
     "data": {
      "text/plain": [
       "True"
      ]
     },
     "execution_count": 5,
     "metadata": {},
     "output_type": "execute_result"
    }
   ],
   "source": [
    "# API 키를 환경변수로 관리하기 위한 설정 파일\n",
    "from dotenv import load_dotenv\n",
    "\n",
    "# API 키 정보 로드\n",
    "load_dotenv()"
   ]
  },
  {
   "cell_type": "code",
   "execution_count": null,
   "id": "d98e91a2",
   "metadata": {},
   "outputs": [],
   "source": [
    "%pip install langchain_google_community langchain_community langchain_google_genai langgraph langchain_text_splitters "
   ]
  },
  {
   "cell_type": "code",
   "execution_count": null,
   "id": "f544b9cd",
   "metadata": {},
   "outputs": [],
   "source": [
    "%pip install beautifulsoup4 faiss-cpu"
   ]
  },
  {
   "cell_type": "code",
   "execution_count": 73,
   "id": "ddd30afd",
   "metadata": {},
   "outputs": [
    {
     "name": "stdout",
     "output_type": "stream",
     "text": [
      "## AI 에이전트 (AI Agent) 란 무엇일까요?\n",
      "\n",
      "AI 에이전트는 한마디로 **\"특정 목표를 달성하기 위해 스스로 판단하고 행동하는 똑똑한 소프트웨어 시스템\"** 이라고 할 수 있습니다. 마치 사람처럼 주어진 상황을 인식하고, 문제를 해결하기 위한 계획을 세우고, 필요한 도구를 활용하여 목표를 달성하는 것이죠.\n",
      "\n",
      "**좀 더 자세히 풀어볼까요?**\n",
      "\n",
      "*   **정의:** AI 에이전트는 인공지능 기술을 기반으로 만들어진 자율적인 소프트웨어 시스템입니다. 이 시스템은 주어진 환경을 인식하고, 목표를 설정하고, 그 목표를 달성하기 위해 스스로 판단하고 행동합니다.\n",
      "*   **원리:** AI 에이전트는 주로 다음과 같은 원리로 작동합니다.\n",
      "    *   **인식 (Perception):** 센서나 API 등을 통해 외부 환경으로부터 정보를 수집합니다. 예를 들어, 카메라를 통해 이미지를 인식하거나, 웹 API를 통해 날씨 정보를 얻는 것이죠.\n",
      "    *   **추론 (Reasoning):** 수집된 정보를 바탕으로 현재 상황을 분석하고, 목표 달성을 위한 최적의 행동 계획을 세웁니다. 이때 다양한 인공지능 알고리즘 (예: 머신러닝, 딥러닝)이 활용됩니다.\n",
      "    *   **행동 (Action):** 계획에 따라 실제로 행동을 수행합니다. 예를 들어, 로봇 팔을 움직여 물건을 옮기거나, 이메일을 보내는 것이죠.\n",
      "    *   **학습 (Learning):** 행동의 결과를 평가하고, 다음번에는 더 나은 결과를 얻을 수 있도록 스스로 학습합니다.\n",
      "*   **배경:** AI 에이전트의 개념은 오래전부터 인공지능 연구 분야에서 논의되어 왔습니다. 초기에는 단순한 규칙 기반의 에이전트가 개발되었지만, 최근에는 머신러닝과 딥러닝 기술의 발전 덕분에 훨씬 더 복잡하고 지능적인 AI 에이전트가 등장하고 있습니다.\n",
      "\n",
      "**AI 에이전트는 실제로 어떻게 적용될까요?**\n",
      "\n",
      "AI 에이전트는 다양한 분야에서 활용될 수 있습니다. 몇 가지 예시를 살펴볼까요?\n",
      "\n",
      "*   **가상 비서 (Virtual Assistant):** 시리 (Siri), 알렉사 (Alexa), 구글 어시스턴트 (Google Assistant) 와 같은 가상 비서는 사용자의 음성 명령을 이해하고, 질문에 답하거나, 음악을 재생하거나, 알람을 설정하는 등 다양한 작업을 수행합니다.\n",
      "*   **자율 주행 자동차 (Self-Driving Car):** 자율 주행 자동차는 카메라, 레이더, 라이다 등의 센서를 통해 주변 환경을 인식하고, 스스로 운전 경로를 계획하고, 장애물을 피하면서 목적지까지 안전하게 이동합니다.\n",
      "*   **고객 서비스 챗봇 (Customer Service Chatbot):** 챗봇은 사용자의 질문에 자동으로 답변하고, 문제를 해결하거나, 필요한 정보를 제공합니다. 챗봇은 24시간 연중무휴로 고객 서비스를 제공할 수 있기 때문에 많은 기업에서 활용하고 있습니다.\n",
      "*   **주식 거래 로봇 (Stock Trading Robot):** 주식 거래 로봇은 시장 상황을 분석하고, 자동으로 주식을 사고파는 거래를 수행합니다. 주식 거래 로봇은 인간의 감정에 흔들리지 않고, 미리 설정된 규칙에 따라 냉정하게 거래를 수행할 수 있습니다.\n",
      "*   **게임 AI (Game AI):** 게임 AI는 게임 속 캐릭터를 제어하고, 플레이어와 상호 작용합니다. 게임 AI는 게임의 난이도를 조절하고, 플레이어에게 도전적인 경험을 제공하는 데 중요한 역할을 합니다.\n",
      "\n",
      "**정리하자면,** AI 에이전트는 우리 생활 곳곳에서 편리함과 효율성을 높여주는 똑똑한 도우미라고 할 수 있습니다. 앞으로 AI 기술이 더욱 발전함에 따라 AI 에이전트의 활용 범위는 더욱 넓어질 것으로 기대됩니다.\n"
     ]
    }
   ],
   "source": [
    "from dotenv import load_dotenv\n",
    "from langchain_community.utilities.google_search import GoogleSearchAPIWrapper\n",
    "from langchain_core.documents import Document\n",
    "from langchain_text_splitters import RecursiveCharacterTextSplitter\n",
    "from langchain_google_genai import GoogleGenerativeAIEmbeddings\n",
    "from langchain.vectorstores import FAISS\n",
    "from langchain_core.prompts import PromptTemplate\n",
    "from langchain_core.runnables import RunnablePassthrough\n",
    "from langchain_core.output_parsers import StrOutputParser\n",
    "from langchain_google_genai import ChatGoogleGenerativeAI\n",
    "\n",
    "def rag_search(\n",
    "    query: str,\n",
    "    search_results_num: int = 10,\n",
    "    context_top_k: int = 5,\n",
    "    chunk_size: int = 100,\n",
    "    chunk_overlap: int = 50,\n",
    "    embedding_model: str = \"models/embedding-001\",\n",
    "    llm_model: str = \"gemini-2.0-flash-001\"\n",
    "):\n",
    "    \"\"\"\n",
    "    query: 질의 문자열\n",
    "    search_results_num: 구글 검색해서 가져올 결과 문서 개수\n",
    "    context_top_k: context로 넘길 벡터DB Top-k 개수\n",
    "    chunk_size, chunk_overlap: 청크 분할 길이\n",
    "    embedding_model, llm_model: 사용할 구글 임베딩/LLM 모델명\n",
    "    \"\"\"\n",
    "\n",
    "    # 1. 환경 변수 및 검색\n",
    "    load_dotenv()\n",
    "    search = GoogleSearchAPIWrapper()\n",
    "    results = search.results(query, search_results_num)\n",
    "\n",
    "    docs = []\n",
    "    for result in results:\n",
    "        text = result['title'] + ' ' + result.get('snippet', '')\n",
    "        doc = Document(page_content=text, metadata=result)\n",
    "        docs.append(doc)\n",
    "\n",
    "    # 2. 텍스트 쪼개기\n",
    "    text_splitter = RecursiveCharacterTextSplitter(\n",
    "        chunk_size=chunk_size, chunk_overlap=chunk_overlap\n",
    "    )\n",
    "    split_documents = text_splitter.split_documents(docs)\n",
    "\n",
    "    # 3. 벡터스토어 생성\n",
    "    embeddings = GoogleGenerativeAIEmbeddings(model=embedding_model)\n",
    "    vectorstore = FAISS.from_documents(documents=split_documents, embedding=embeddings)\n",
    "\n",
    "    # 4. 검색기(리트리버) 생성\n",
    "    retriever = vectorstore.as_retriever(search_kwargs={\"k\": context_top_k})\n",
    "\n",
    "    # 5. 프롬프트 및 RAG chain 생성\n",
    "    prompt = PromptTemplate.from_template(\n",
    "        \"\"\"당신은 전문적이고 신뢰할 수 있는 AI 어시스턴트입니다.\n",
    "제가 제시하는 개념, 용어 또는 문장에 대해 그 정의와 원리, 배경을 중심으로 설명해 주세요.\n",
    "또한 해당 개념이 실제로 어떻게 적용되는지, 실생활이나 다양한 분야에서의 예시를 들어주면 좋겠습니다.\n",
    "모든 설명은 비전문가도 쉽게 이해할 수 있도록 차근차근 자세하게 풀어서 설명해 주세요.\n",
    "\n",
    "#Context:\n",
    "{context}\n",
    "\n",
    "#Question:\n",
    "{question}\n",
    "\n",
    "#Answer:\"\"\"\n",
    "    )\n",
    "\n",
    "    llm = ChatGoogleGenerativeAI(model=llm_model, temperature=0)\n",
    "\n",
    "    rag_chain = (\n",
    "        {\"context\": retriever, \"question\": RunnablePassthrough()}\n",
    "        | prompt\n",
    "        | llm\n",
    "        | StrOutputParser()\n",
    "    )\n",
    "\n",
    "    # 6. 체인 실행\n",
    "    result = rag_chain.invoke(query)\n",
    "    return result\n",
    "\n",
    "\n",
    "# 사용 예시\n",
    "if __name__ == \"__main__\":\n",
    "    answer = rag_search(\n",
    "        query=\"what is the AI Agent\",\n",
    "        search_results_num=8,      # 구글 결과 8개\n",
    "        context_top_k=3            # Top-3 문서 context로 사용\n",
    "    )\n",
    "    print(answer)\n"
   ]
  }
 ],
 "metadata": {
  "kernelspec": {
   "display_name": "Python 3",
   "language": "python",
   "name": "python3"
  },
  "language_info": {
   "codemirror_mode": {
    "name": "ipython",
    "version": 3
   },
   "file_extension": ".py",
   "mimetype": "text/x-python",
   "name": "python",
   "nbconvert_exporter": "python",
   "pygments_lexer": "ipython3",
   "version": "3.12.2"
  }
 },
 "nbformat": 4,
 "nbformat_minor": 5
}
